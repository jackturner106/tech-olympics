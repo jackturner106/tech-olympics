{
 "cells": [
  {
   "cell_type": "code",
   "execution_count": 2,
   "metadata": {},
   "outputs": [
    {
     "name": "stdout",
     "output_type": "stream",
     "text": [
      "19544084\n"
     ]
    }
   ],
   "source": [
    "fib = [1,2]\n",
    "cur = 3\n",
    "while cur < 10000000:\n",
    "    cur = fib[-1] + fib[-2]\n",
    "    fib.append(cur)\n",
    "\n",
    "tot = 0\n",
    "for i in fib:\n",
    "    tot += i if i % 2 == 0 else 0\n",
    "print(tot)"
   ]
  }
 ],
 "metadata": {
  "kernelspec": {
   "display_name": "Python 3",
   "language": "python",
   "name": "python3"
  },
  "language_info": {
   "codemirror_mode": {
    "name": "ipython",
    "version": 3
   },
   "file_extension": ".py",
   "mimetype": "text/x-python",
   "name": "python",
   "nbconvert_exporter": "python",
   "pygments_lexer": "ipython3",
   "version": "3.12.2"
  }
 },
 "nbformat": 4,
 "nbformat_minor": 2
}
